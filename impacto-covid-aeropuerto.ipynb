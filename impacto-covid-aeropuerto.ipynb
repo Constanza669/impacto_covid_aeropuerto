{
 "cells": [
  {
   "cell_type": "markdown",
   "metadata": {},
   "source": [
    "# El impacto de la pandemia mundial en la utilización de aeropuertos \n",
    "\n",
    "**Por Constanza Espinoza**\n",
    "\n",
    "El repositorio demuestra que tanto afecto el Covid-19 en los viajes nacionaes e internacionales a nivel mundial.\n",
    "\n",
    "## Objetivo \n",
    "El objetivo de este análisis es responder a una serie de preguntas a través del estudio de la base de datos. Las preguntas son las siguientes:\n",
    " - ¿La pandemia fue un factor frente a la disminución o aumento de la utilzación de aeropuertos?\n",
    " - ¿Cuales fueron los paises más afectados?, ¿Y los menos afectados?\n",
    " - ¿El efecto se mantuvo en el tiempo (año 2020)?\n",
    " \n",
    " ## Tabla de contenido\n",
    "  1. Carga de datos\n",
    "  2. Exploración de datos\n",
    "  3. Limpieza de datos\n",
    "  4. Presentación de datos\n",
    "  5. Conclusiones\n",
    "  6. Referencias\n",
    "  \n",
    "## 1. Carga de datos\n",
    "Se cargarán los datos extraidos de la pagina web Kaggle"
   ]
  },
  {
   "cell_type": "code",
   "execution_count": 3,
   "metadata": {},
   "outputs": [],
   "source": [
    "#Importar librerias a utilizar\n",
    "import pandas as pd\n",
    "import numpy as np\n",
    "import matplotlib.pyplot as plt\n",
    "import seaborn as sns\n",
    "\n",
    "%matplotlib inline\n"
   ]
  },
  {
   "cell_type": "code",
   "execution_count": 4,
   "metadata": {},
   "outputs": [],
   "source": [
    "#Importar los datos a utilizar\n",
    "df = pd.read_csv('datos/covid_impact_on_airport_traffic.csv')"
   ]
  },
  {
   "cell_type": "markdown",
   "metadata": {},
   "source": [
    "## 2. Exploración de datos\n",
    "Se revisaron los datos cargados para determinar que se debe realizar en el siguiente paso"
   ]
  },
  {
   "cell_type": "code",
   "execution_count": 5,
   "metadata": {},
   "outputs": [
    {
     "data": {
      "text/html": [
       "<div>\n",
       "<style scoped>\n",
       "    .dataframe tbody tr th:only-of-type {\n",
       "        vertical-align: middle;\n",
       "    }\n",
       "\n",
       "    .dataframe tbody tr th {\n",
       "        vertical-align: top;\n",
       "    }\n",
       "\n",
       "    .dataframe thead th {\n",
       "        text-align: right;\n",
       "    }\n",
       "</style>\n",
       "<table border=\"1\" class=\"dataframe\">\n",
       "  <thead>\n",
       "    <tr style=\"text-align: right;\">\n",
       "      <th></th>\n",
       "      <th>AggregationMethod</th>\n",
       "      <th>Date</th>\n",
       "      <th>Version</th>\n",
       "      <th>AirportName</th>\n",
       "      <th>PercentOfBaseline</th>\n",
       "      <th>Centroid</th>\n",
       "      <th>City</th>\n",
       "      <th>State</th>\n",
       "      <th>ISO_3166_2</th>\n",
       "      <th>Country</th>\n",
       "      <th>Geography</th>\n",
       "    </tr>\n",
       "  </thead>\n",
       "  <tbody>\n",
       "    <tr>\n",
       "      <th>3839</th>\n",
       "      <td>Daily</td>\n",
       "      <td>2020-10-05</td>\n",
       "      <td>1.0</td>\n",
       "      <td>Miami International</td>\n",
       "      <td>78</td>\n",
       "      <td>POINT(-80.2887147460152 25.7957243107604)</td>\n",
       "      <td>Miami Springs</td>\n",
       "      <td>Florida</td>\n",
       "      <td>US-FL</td>\n",
       "      <td>United States of America (the)</td>\n",
       "      <td>POLYGON((-80.3053593635559 25.8070775439338, -...</td>\n",
       "    </tr>\n",
       "    <tr>\n",
       "      <th>3959</th>\n",
       "      <td>Daily</td>\n",
       "      <td>2020-12-01</td>\n",
       "      <td>1.0</td>\n",
       "      <td>Hartsfield-Jackson Atlanta International</td>\n",
       "      <td>62</td>\n",
       "      <td>POINT(-84.4279188822754 33.6410758198944)</td>\n",
       "      <td>College Park</td>\n",
       "      <td>Georgia</td>\n",
       "      <td>US-GA</td>\n",
       "      <td>United States of America (the)</td>\n",
       "      <td>POLYGON((-84.4299745559692 33.657852680999, -8...</td>\n",
       "    </tr>\n",
       "    <tr>\n",
       "      <th>3454</th>\n",
       "      <td>Daily</td>\n",
       "      <td>2020-06-30</td>\n",
       "      <td>1.0</td>\n",
       "      <td>Denver International</td>\n",
       "      <td>60</td>\n",
       "      <td>POINT(-104.700315559089 39.8643468206413)</td>\n",
       "      <td>Denver</td>\n",
       "      <td>Colorado</td>\n",
       "      <td>US-CO</td>\n",
       "      <td>United States of America (the)</td>\n",
       "      <td>POLYGON((-104.661254882812 39.8242265704646, -...</td>\n",
       "    </tr>\n",
       "    <tr>\n",
       "      <th>2660</th>\n",
       "      <td>Daily</td>\n",
       "      <td>2020-09-10</td>\n",
       "      <td>1.0</td>\n",
       "      <td>Montreal Trudeau</td>\n",
       "      <td>85</td>\n",
       "      <td>POINT(-73.7424121584688 45.4678436940192)</td>\n",
       "      <td>Dorval</td>\n",
       "      <td>Quebec</td>\n",
       "      <td>CA-QC</td>\n",
       "      <td>Canada</td>\n",
       "      <td>POLYGON((-73.751757144928 45.44954912446, -73....</td>\n",
       "    </tr>\n",
       "    <tr>\n",
       "      <th>2217</th>\n",
       "      <td>Daily</td>\n",
       "      <td>2020-03-22</td>\n",
       "      <td>1.0</td>\n",
       "      <td>Hamilton International</td>\n",
       "      <td>52</td>\n",
       "      <td>POINT(-79.9266930701955 43.1720360844936)</td>\n",
       "      <td>Hamilton</td>\n",
       "      <td>Ontario</td>\n",
       "      <td>CA-ON</td>\n",
       "      <td>Canada</td>\n",
       "      <td>POLYGON((-79.932746887207 43.1551600161937, -7...</td>\n",
       "    </tr>\n",
       "    <tr>\n",
       "      <th>332</th>\n",
       "      <td>Daily</td>\n",
       "      <td>2020-08-26</td>\n",
       "      <td>1.0</td>\n",
       "      <td>Santiago International Airport</td>\n",
       "      <td>36</td>\n",
       "      <td>POINT(-70.7942372739446 -33.3907265266744)</td>\n",
       "      <td>Santiago</td>\n",
       "      <td>Santiago Province</td>\n",
       "      <td>CL</td>\n",
       "      <td>Chile</td>\n",
       "      <td>POLYGON((-70.8043956756592 -33.3719683869737, ...</td>\n",
       "    </tr>\n",
       "    <tr>\n",
       "      <th>2774</th>\n",
       "      <td>Daily</td>\n",
       "      <td>2020-10-08</td>\n",
       "      <td>1.0</td>\n",
       "      <td>Montreal Trudeau</td>\n",
       "      <td>90</td>\n",
       "      <td>POINT(-73.7424121584688 45.4678436940192)</td>\n",
       "      <td>Dorval</td>\n",
       "      <td>Quebec</td>\n",
       "      <td>CA-QC</td>\n",
       "      <td>Canada</td>\n",
       "      <td>POLYGON((-73.751757144928 45.44954912446, -73....</td>\n",
       "    </tr>\n",
       "    <tr>\n",
       "      <th>5427</th>\n",
       "      <td>Daily</td>\n",
       "      <td>2020-11-20</td>\n",
       "      <td>1.0</td>\n",
       "      <td>Newark Liberty International</td>\n",
       "      <td>100</td>\n",
       "      <td>POINT(-74.1751246689879 40.6915033838306)</td>\n",
       "      <td>Newark</td>\n",
       "      <td>New Jersey</td>\n",
       "      <td>US-NJ</td>\n",
       "      <td>United States of America (the)</td>\n",
       "      <td>POLYGON((-74.1924333572388 40.6810611095368, -...</td>\n",
       "    </tr>\n",
       "    <tr>\n",
       "      <th>3376</th>\n",
       "      <td>Daily</td>\n",
       "      <td>2020-04-28</td>\n",
       "      <td>1.0</td>\n",
       "      <td>Denver International</td>\n",
       "      <td>48</td>\n",
       "      <td>POINT(-104.700315559089 39.8643468206413)</td>\n",
       "      <td>Denver</td>\n",
       "      <td>Colorado</td>\n",
       "      <td>US-CO</td>\n",
       "      <td>United States of America (the)</td>\n",
       "      <td>POLYGON((-104.661254882812 39.8242265704646, -...</td>\n",
       "    </tr>\n",
       "    <tr>\n",
       "      <th>6046</th>\n",
       "      <td>Daily</td>\n",
       "      <td>2020-05-10</td>\n",
       "      <td>1.0</td>\n",
       "      <td>LaGuardia</td>\n",
       "      <td>60</td>\n",
       "      <td>POINT(-73.8732455278797 40.7738834966785)</td>\n",
       "      <td>New York</td>\n",
       "      <td>New York</td>\n",
       "      <td>US-NY</td>\n",
       "      <td>United States of America (the)</td>\n",
       "      <td>POLYGON((-73.8876271247864 40.7672775860377, -...</td>\n",
       "    </tr>\n",
       "  </tbody>\n",
       "</table>\n",
       "</div>"
      ],
      "text/plain": [
       "     AggregationMethod        Date  Version  \\\n",
       "3839             Daily  2020-10-05      1.0   \n",
       "3959             Daily  2020-12-01      1.0   \n",
       "3454             Daily  2020-06-30      1.0   \n",
       "2660             Daily  2020-09-10      1.0   \n",
       "2217             Daily  2020-03-22      1.0   \n",
       "332              Daily  2020-08-26      1.0   \n",
       "2774             Daily  2020-10-08      1.0   \n",
       "5427             Daily  2020-11-20      1.0   \n",
       "3376             Daily  2020-04-28      1.0   \n",
       "6046             Daily  2020-05-10      1.0   \n",
       "\n",
       "                                    AirportName  PercentOfBaseline  \\\n",
       "3839                       Miami International                  78   \n",
       "3959  Hartsfield-Jackson Atlanta International                  62   \n",
       "3454                       Denver International                 60   \n",
       "2660                           Montreal Trudeau                 85   \n",
       "2217                     Hamilton International                 52   \n",
       "332              Santiago International Airport                 36   \n",
       "2774                           Montreal Trudeau                 90   \n",
       "5427              Newark Liberty International                 100   \n",
       "3376                       Denver International                 48   \n",
       "6046                                  LaGuardia                 60   \n",
       "\n",
       "                                        Centroid           City  \\\n",
       "3839   POINT(-80.2887147460152 25.7957243107604)  Miami Springs   \n",
       "3959   POINT(-84.4279188822754 33.6410758198944)   College Park   \n",
       "3454   POINT(-104.700315559089 39.8643468206413)         Denver   \n",
       "2660   POINT(-73.7424121584688 45.4678436940192)         Dorval   \n",
       "2217   POINT(-79.9266930701955 43.1720360844936)       Hamilton   \n",
       "332   POINT(-70.7942372739446 -33.3907265266744)       Santiago   \n",
       "2774   POINT(-73.7424121584688 45.4678436940192)         Dorval   \n",
       "5427   POINT(-74.1751246689879 40.6915033838306)         Newark   \n",
       "3376   POINT(-104.700315559089 39.8643468206413)         Denver   \n",
       "6046   POINT(-73.8732455278797 40.7738834966785)       New York   \n",
       "\n",
       "                  State ISO_3166_2                         Country  \\\n",
       "3839            Florida      US-FL  United States of America (the)   \n",
       "3959            Georgia      US-GA  United States of America (the)   \n",
       "3454           Colorado      US-CO  United States of America (the)   \n",
       "2660             Quebec      CA-QC                          Canada   \n",
       "2217            Ontario      CA-ON                          Canada   \n",
       "332   Santiago Province         CL                           Chile   \n",
       "2774             Quebec      CA-QC                          Canada   \n",
       "5427         New Jersey      US-NJ  United States of America (the)   \n",
       "3376           Colorado      US-CO  United States of America (the)   \n",
       "6046           New York      US-NY  United States of America (the)   \n",
       "\n",
       "                                              Geography  \n",
       "3839  POLYGON((-80.3053593635559 25.8070775439338, -...  \n",
       "3959  POLYGON((-84.4299745559692 33.657852680999, -8...  \n",
       "3454  POLYGON((-104.661254882812 39.8242265704646, -...  \n",
       "2660  POLYGON((-73.751757144928 45.44954912446, -73....  \n",
       "2217  POLYGON((-79.932746887207 43.1551600161937, -7...  \n",
       "332   POLYGON((-70.8043956756592 -33.3719683869737, ...  \n",
       "2774  POLYGON((-73.751757144928 45.44954912446, -73....  \n",
       "5427  POLYGON((-74.1924333572388 40.6810611095368, -...  \n",
       "3376  POLYGON((-104.661254882812 39.8242265704646, -...  \n",
       "6046  POLYGON((-73.8876271247864 40.7672775860377, -...  "
      ]
     },
     "execution_count": 5,
     "metadata": {},
     "output_type": "execute_result"
    }
   ],
   "source": [
    "#Revisar comportamiento de columnas\n",
    "df.sample(10)"
   ]
  },
  {
   "cell_type": "code",
   "execution_count": 5,
   "metadata": {},
   "outputs": [
    {
     "name": "stdout",
     "output_type": "stream",
     "text": [
      "<class 'pandas.core.frame.DataFrame'>\n",
      "RangeIndex: 7247 entries, 0 to 7246\n",
      "Data columns (total 11 columns):\n",
      " #   Column             Non-Null Count  Dtype  \n",
      "---  ------             --------------  -----  \n",
      " 0   AggregationMethod  7247 non-null   object \n",
      " 1   Date               7247 non-null   object \n",
      " 2   Version            7247 non-null   float64\n",
      " 3   AirportName        7247 non-null   object \n",
      " 4   PercentOfBaseline  7247 non-null   int64  \n",
      " 5   Centroid           7247 non-null   object \n",
      " 6   City               7247 non-null   object \n",
      " 7   State              7247 non-null   object \n",
      " 8   ISO_3166_2         7247 non-null   object \n",
      " 9   Country            7247 non-null   object \n",
      " 10  Geography          7247 non-null   object \n",
      "dtypes: float64(1), int64(1), object(9)\n",
      "memory usage: 622.9+ KB\n"
     ]
    }
   ],
   "source": [
    "df.info()\n",
    "#no hay valores nulos"
   ]
  },
  {
   "cell_type": "code",
   "execution_count": 6,
   "metadata": {},
   "outputs": [
    {
     "data": {
      "text/plain": [
       "(7247, 11)"
      ]
     },
     "execution_count": 6,
     "metadata": {},
     "output_type": "execute_result"
    }
   ],
   "source": [
    "df.shape\n",
    "#7247 filas y 11 columnas"
   ]
  },
  {
   "cell_type": "code",
   "execution_count": 8,
   "metadata": {},
   "outputs": [
    {
     "data": {
      "text/plain": [
       "AggregationMethod      1\n",
       "Date                 262\n",
       "Version                1\n",
       "AirportName           28\n",
       "PercentOfBaseline     99\n",
       "Centroid              28\n",
       "City                  27\n",
       "State                 23\n",
       "ISO_3166_2            23\n",
       "Country                4\n",
       "Geography             28\n",
       "dtype: int64"
      ]
     },
     "execution_count": 8,
     "metadata": {},
     "output_type": "execute_result"
    }
   ],
   "source": [
    "#revisar valores unicos\n",
    "df.nunique()"
   ]
  },
  {
   "cell_type": "code",
   "execution_count": null,
   "metadata": {},
   "outputs": [],
   "source": [
    "# diferencia de la primera fecha y última para saber desde que mes se está comparando\n",
    "#from datetime import date\n",
    "#primer_fecha = date(2020, 7, 2)\n",
    "#ultima_fecha = date(2020, 7, 11)\n",
    "\n",
    "#diferencia = ultima_fecha - primer_fecha\n",
    "#print(diferencia.days)"
   ]
  },
  {
   "cell_type": "code",
   "execution_count": null,
   "metadata": {},
   "outputs": [],
   "source": [
    "#ver las variables definidas\n",
    "#%whos"
   ]
  },
  {
   "cell_type": "code",
   "execution_count": null,
   "metadata": {},
   "outputs": [],
   "source": [
    "#import math para importar operaciones matematicas\n"
   ]
  },
  {
   "cell_type": "code",
   "execution_count": null,
   "metadata": {},
   "outputs": [],
   "source": []
  },
  {
   "cell_type": "code",
   "execution_count": null,
   "metadata": {},
   "outputs": [],
   "source": []
  },
  {
   "cell_type": "code",
   "execution_count": null,
   "metadata": {},
   "outputs": [],
   "source": []
  },
  {
   "cell_type": "markdown",
   "metadata": {},
   "source": [
    "## 3. Limpieza de los datos\n",
    "En base a la exploración de los datos, se decide realizar una limpieza con el fin de realizar un análisis eficaz\n"
   ]
  },
  {
   "cell_type": "code",
   "execution_count": null,
   "metadata": {},
   "outputs": [],
   "source": [
    "#guardar dataframe limpio pd.to_csv('datos/covid_impact_on_airport_traffic.csv')"
   ]
  },
  {
   "cell_type": "code",
   "execution_count": null,
   "metadata": {},
   "outputs": [],
   "source": []
  },
  {
   "cell_type": "markdown",
   "metadata": {},
   "source": [
    "## 4. Presentación de datos\n",
    "De acuerdo al análisis y limpieza de los datos, se realiza lo siguiente:\n",
    "\n",
    "4.1 ¿La pandemia fue un factor frente a la disminución o aumento de la utilzación de aeropuertos?"
   ]
  },
  {
   "cell_type": "code",
   "execution_count": null,
   "metadata": {},
   "outputs": [],
   "source": []
  },
  {
   "cell_type": "code",
   "execution_count": null,
   "metadata": {},
   "outputs": [],
   "source": []
  },
  {
   "cell_type": "code",
   "execution_count": null,
   "metadata": {},
   "outputs": [],
   "source": []
  },
  {
   "cell_type": "markdown",
   "metadata": {},
   "source": [
    "4.2 ¿Cuales fueron los paises más afectados?, ¿Y los menos afectados?"
   ]
  },
  {
   "cell_type": "code",
   "execution_count": null,
   "metadata": {},
   "outputs": [],
   "source": []
  },
  {
   "cell_type": "code",
   "execution_count": null,
   "metadata": {},
   "outputs": [],
   "source": []
  },
  {
   "cell_type": "markdown",
   "metadata": {},
   "source": [
    "4.3 ¿El efecto se mantuvo en el tiempo (año 2020)?"
   ]
  },
  {
   "cell_type": "code",
   "execution_count": null,
   "metadata": {},
   "outputs": [],
   "source": []
  },
  {
   "cell_type": "code",
   "execution_count": null,
   "metadata": {},
   "outputs": [],
   "source": []
  },
  {
   "cell_type": "markdown",
   "metadata": {},
   "source": [
    "## 5. Conclusiones\n"
   ]
  },
  {
   "cell_type": "code",
   "execution_count": null,
   "metadata": {},
   "outputs": [],
   "source": []
  },
  {
   "cell_type": "code",
   "execution_count": null,
   "metadata": {},
   "outputs": [],
   "source": []
  },
  {
   "cell_type": "markdown",
   "metadata": {},
   "source": [
    "## 6. Referencias"
   ]
  },
  {
   "cell_type": "code",
   "execution_count": null,
   "metadata": {},
   "outputs": [],
   "source": []
  },
  {
   "cell_type": "code",
   "execution_count": null,
   "metadata": {},
   "outputs": [],
   "source": []
  },
  {
   "cell_type": "code",
   "execution_count": null,
   "metadata": {},
   "outputs": [],
   "source": []
  },
  {
   "cell_type": "code",
   "execution_count": null,
   "metadata": {},
   "outputs": [],
   "source": []
  },
  {
   "cell_type": "code",
   "execution_count": null,
   "metadata": {},
   "outputs": [],
   "source": []
  },
  {
   "cell_type": "code",
   "execution_count": null,
   "metadata": {},
   "outputs": [],
   "source": []
  },
  {
   "cell_type": "code",
   "execution_count": null,
   "metadata": {},
   "outputs": [],
   "source": []
  },
  {
   "cell_type": "markdown",
   "metadata": {},
   "source": []
  }
 ],
 "metadata": {
  "kernelspec": {
   "display_name": "Python 3",
   "language": "python",
   "name": "python3"
  },
  "language_info": {
   "codemirror_mode": {
    "name": "ipython",
    "version": 3
   },
   "file_extension": ".py",
   "mimetype": "text/x-python",
   "name": "python",
   "nbconvert_exporter": "python",
   "pygments_lexer": "ipython3",
   "version": "3.8.5"
  }
 },
 "nbformat": 4,
 "nbformat_minor": 4
}
