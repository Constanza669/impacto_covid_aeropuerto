{
 "cells": [
  {
   "cell_type": "markdown",
   "metadata": {},
   "source": [
    "# El impacto de la pandemia mundial en la utilización de aeropuertos \n",
    "\n",
    "**Por Constanza Espinoza**\n",
    "\n",
    "El repositorio demuestra que tanto afecto el Covid-19 en los viajes nacionaes e internacionales a nivel mundial.\n",
    "\n",
    "## Objetivo \n",
    "El objetivo de este análisis es responder a una serie de preguntas a través del estudio de la base de datos. Las preguntas son las siguientes:\n",
    " - ¿La pandemia fue un factor frente a la disminución o aumento de la utilzación de aeropuertos?\n",
    " - ¿Cuales fueron los paises más afectados?, ¿Y los menos afectados?\n",
    " - ¿El efecto se mantuvo en el tiempo (año 2020)?\n",
    " \n",
    " ## Tabla de contenido"
   ]
  },
  {
   "cell_type": "code",
   "execution_count": null,
   "metadata": {},
   "outputs": [],
   "source": []
  },
  {
   "cell_type": "code",
   "execution_count": null,
   "metadata": {},
   "outputs": [],
   "source": []
  },
  {
   "cell_type": "code",
   "execution_count": null,
   "metadata": {},
   "outputs": [],
   "source": []
  },
  {
   "cell_type": "code",
   "execution_count": null,
   "metadata": {},
   "outputs": [],
   "source": []
  },
  {
   "cell_type": "code",
   "execution_count": null,
   "metadata": {},
   "outputs": [],
   "source": []
  },
  {
   "cell_type": "code",
   "execution_count": null,
   "metadata": {},
   "outputs": [],
   "source": []
  },
  {
   "cell_type": "code",
   "execution_count": null,
   "metadata": {},
   "outputs": [],
   "source": []
  },
  {
   "cell_type": "code",
   "execution_count": null,
   "metadata": {},
   "outputs": [],
   "source": []
  },
  {
   "cell_type": "markdown",
   "metadata": {},
   "source": []
  }
 ],
 "metadata": {
  "kernelspec": {
   "display_name": "Python 3",
   "language": "python",
   "name": "python3"
  },
  "language_info": {
   "codemirror_mode": {
    "name": "ipython",
    "version": 3
   },
   "file_extension": ".py",
   "mimetype": "text/x-python",
   "name": "python",
   "nbconvert_exporter": "python",
   "pygments_lexer": "ipython3",
   "version": "3.8.5"
  }
 },
 "nbformat": 4,
 "nbformat_minor": 4
}
